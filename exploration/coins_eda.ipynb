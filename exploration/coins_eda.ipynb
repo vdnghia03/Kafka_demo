{
 "cells": [
  {
   "cell_type": "markdown",
   "id": "a40882a9-ae51-4345-b2c3-93bb9b3d823b",
   "metadata": {},
   "source": [
    "# CrytoCurrency Coin Market EDA"
   ]
  },
  {
   "cell_type": "code",
   "execution_count": 2,
   "id": "95d755c7-a084-467b-8f47-254f1f8911e5",
   "metadata": {},
   "outputs": [
    {
     "name": "stdout",
     "output_type": "stream",
     "text": [
      "{'status': {'timestamp': '2025-05-30T03:52:05.523Z', 'error_code': 0, 'error_message': None, 'elapsed': 1, 'credit_count': 1, 'notice': None}, 'data': [{'id': 5162, 'name': '2ohvhw8g3gu', 'symbol': 'e49dbttxcx', 'slug': '7gzunfak3m4', 'cmc_rank': 7777, 'num_market_pairs': 7458, 'circulating_supply': 3798, 'total_supply': 6382, 'max_supply': 8520, 'infinite_supply': None, 'last_updated': '2025-05-30T03:52:05.523Z', 'date_added': '2025-05-30T03:52:05.523Z', 'tags': ['mgp4fwmqfoh', 'fngd91l7hnb', 'wl0cn18ovp', 'bd02thf3cig', 'gmoro4msw4r', 'nii79gdoum8', 'd992xauxzt8', '6nz2jlgeepj', 'p1jsdfqx0hl', 'wgecdlo7bkp'], 'platform': None, 'self_reported_circulating_supply': None, 'self_reported_market_cap': None, 'quote': {'USD': {'price': 0.5507035069836133, 'volume_24h': 8520, 'volume_change_24h': 0.5379521695075211, 'percent_change_1h': 0.11375347456575224, 'percent_change_24h': 0.7624983003380936, 'percent_change_7d': 0.5059777943720978, 'market_cap': 0.6606871986700662, 'market_cap_dominance': 5050, 'fully_diluted_market_cap': 0.5187525361168339, 'last_updated': '2025-05-30T03:52:05.523Z'}}}, {'id': 4449, 'name': 'oaea6gvbzmg', 'symbol': 'mk4w7x52xy', 'slug': 'mqkf9b40p79', 'cmc_rank': 5575, 'num_market_pairs': 6203, 'circulating_supply': 5429, 'total_supply': 1207, 'max_supply': 7786, 'infinite_supply': None, 'last_updated': '2025-05-30T03:52:05.523Z', 'date_added': '2025-05-30T03:52:05.523Z', 'tags': ['x2um50mf9b', 'o293j5ibas', '1060bkwg4mg', 'vy3l70x7w3i', '51sdoj030bw', '3laay8nmei9', 'rypxy6o3bm', 'q2s0inzohm', 'lck47es5zce', 'a96tc1e5lpb'], 'platform': None, 'self_reported_circulating_supply': None, 'self_reported_market_cap': None, 'quote': {'USD': {'price': 0.36730378923442375, 'volume_24h': 6794, 'volume_change_24h': 0.6224654226957929, 'percent_change_1h': 0.8710099367058106, 'percent_change_24h': 0.43635287046998683, 'percent_change_7d': 0.35554443779073286, 'market_cap': 0.9295308409592056, 'market_cap_dominance': 4297, 'fully_diluted_market_cap': 0.4460070067305679, 'last_updated': '2025-05-30T03:52:05.523Z'}}}, {'id': 3257, 'name': 'yk465w2bsqi', 'symbol': 'ij996einl0s', 'slug': 'd2v843jpjp', 'cmc_rank': 7171, 'num_market_pairs': 7030, 'circulating_supply': 6985, 'total_supply': 6793, 'max_supply': 3261, 'infinite_supply': None, 'last_updated': '2025-05-30T03:52:05.523Z', 'date_added': '2025-05-30T03:52:05.523Z', 'tags': ['q5b7li88pnc', 'pzqs2ft2tii', 'cygspxb4i2f', 'yocgk2ajv6', 'r58hxrh1ldg', 'y0a2pwkktah', 'fwk2dhpeqje', 'hhvwbibbgy7', 'pcz89rpt4k', 'dl16yr59gb5'], 'platform': None, 'self_reported_circulating_supply': None, 'self_reported_market_cap': None, 'quote': {'USD': {'price': 0.8080575587568888, 'volume_24h': 707, 'volume_change_24h': 0.8575602803727884, 'percent_change_1h': 0.5372238457731202, 'percent_change_24h': 0.9095263159107165, 'percent_change_7d': 0.6712312449322506, 'market_cap': 0.4597124115915614, 'market_cap_dominance': 2223, 'fully_diluted_market_cap': 0.48601796532612274, 'last_updated': '2025-05-30T03:52:05.523Z'}}}, {'id': 4743, 'name': 'lmmkunn7yf', 'symbol': '8tnihv0xb2a', 'slug': 'fdcezxd6ujj', 'cmc_rank': 8452, 'num_market_pairs': 3596, 'circulating_supply': 4554, 'total_supply': 5492, 'max_supply': 5149, 'infinite_supply': None, 'last_updated': '2025-05-30T03:52:05.523Z', 'date_added': '2025-05-30T03:52:05.523Z', 'tags': ['nit14reqlh', 'e043qe923oa', 'hqlflkcq49m', 'ev2zu4p7t0n', 'oh75tgpbf3q', 'n5e19m8or6', 'ni2xh612sed', '5ro9e9jb27j', 'n544mchiyg', 'g6es4i0v94j'], 'platform': None, 'self_reported_circulating_supply': None, 'self_reported_market_cap': None, 'quote': {'USD': {'price': 0.09288117306459731, 'volume_24h': 1621, 'volume_change_24h': 0.8885401328090121, 'percent_change_1h': 0.11241910923237475, 'percent_change_24h': 0.8822103880390268, 'percent_change_7d': 0.18765447152978765, 'market_cap': 0.366827791663243, 'market_cap_dominance': 4891, 'fully_diluted_market_cap': 0.6309776908536284, 'last_updated': '2025-05-30T03:52:05.523Z'}}}, {'id': 1506, 'name': 'nyko8mh1lmh', 'symbol': '69huxtej76t', 'slug': 'zi8k4rbmh5t', 'cmc_rank': 3522, 'num_market_pairs': 4009, 'circulating_supply': 3021, 'total_supply': 47, 'max_supply': 8238, 'infinite_supply': None, 'last_updated': '2025-05-30T03:52:05.523Z', 'date_added': '2025-05-30T03:52:05.523Z', 'tags': ['fld6b8we4s', 'undfwtrzv2s', 'k4qf0a8k3l', '5ewg6ieycgs', 'dvm0geep87q', 'huexhbqrwbc', '9sbsh6lgwzj', 'vuonwulje7c', 'yc13ltdk0a', 'pc5snpkcuoc'], 'platform': None, 'self_reported_circulating_supply': None, 'self_reported_market_cap': None, 'quote': {'USD': {'price': 0.49656334477105935, 'volume_24h': 1387, 'volume_change_24h': 0.04648188849439272, 'percent_change_1h': 0.5868916205803472, 'percent_change_24h': 0.6679854648426544, 'percent_change_7d': 0.2959378319739392, 'market_cap': 0.6275316776702087, 'market_cap_dominance': 9621, 'fully_diluted_market_cap': 0.7294126657366189, 'last_updated': '2025-05-30T03:52:05.523Z'}}}, {'id': 5342, 'name': 'wk6kuocroa', 'symbol': 'o2f5fbc6vh9', 'slug': 'zkyrd1twcuh', 'cmc_rank': 131, 'num_market_pairs': 5322, 'circulating_supply': 9821, 'total_supply': 7896, 'max_supply': 9903, 'infinite_supply': None, 'last_updated': '2025-05-30T03:52:05.523Z', 'date_added': '2025-05-30T03:52:05.523Z', 'tags': ['bbazumyf36j', 'xtjrzzd6x18', '3hthnnxrbb4', 'kaojcnzex1o', 'nkc8h96057', '2q0g3gldeks', 'tvg0hew9by', 'u2121pkyy7', 'y78fx4kfigq', 'gx6uy107d9b'], 'platform': None, 'self_reported_circulating_supply': None, 'self_reported_market_cap': None, 'quote': {'USD': {'price': 0.027676170902864117, 'volume_24h': 5120, 'volume_change_24h': 0.1064178492990917, 'percent_change_1h': 0.020193530725023168, 'percent_change_24h': 0.06910444034576146, 'percent_change_7d': 0.015090357176285707, 'market_cap': 0.2447159498872178, 'market_cap_dominance': 5932, 'fully_diluted_market_cap': 0.24317450412858022, 'last_updated': '2025-05-30T03:52:05.523Z'}}}, {'id': 7100, 'name': '14kxtbhtoba', 'symbol': 'mf51opklja', 'slug': 'd1nxt7pj71q', 'cmc_rank': 6927, 'num_market_pairs': 4452, 'circulating_supply': 737, 'total_supply': 6107, 'max_supply': 1662, 'infinite_supply': None, 'last_updated': '2025-05-30T03:52:05.523Z', 'date_added': '2025-05-30T03:52:05.523Z', 'tags': ['hgj2wcrxfua', '5z1yg5d77s4', 'en8p4s5xlg', '67qfq3ryked', 'ys80y742ha', 'auzeffv3ah4', '1rl3adhnog8', 'z9r1s0c2ozc', 'd8x89hjbkx5', 'uea0mv2mxls'], 'platform': None, 'self_reported_circulating_supply': None, 'self_reported_market_cap': None, 'quote': {'USD': {'price': 0.7806051083723138, 'volume_24h': 328, 'volume_change_24h': 0.3743550257642476, 'percent_change_1h': 0.2350945973790748, 'percent_change_24h': 0.47280300918507256, 'percent_change_7d': 0.4694260643061203, 'market_cap': 0.9681482273106152, 'market_cap_dominance': 8118, 'fully_diluted_market_cap': 0.015386370936149918, 'last_updated': '2025-05-30T03:52:05.523Z'}}}, {'id': 4563, 'name': '8e1lwhxxj0d', 'symbol': 'g5ndglyviti', 'slug': '0shwbchx5fxs', 'cmc_rank': 3086, 'num_market_pairs': 5441, 'circulating_supply': 7743, 'total_supply': 615, 'max_supply': 5687, 'infinite_supply': None, 'last_updated': '2025-05-30T03:52:05.523Z', 'date_added': '2025-05-30T03:52:05.523Z', 'tags': ['29lfzcfacfs', 'ucxn1gw1hs', '0sogo8vj92jh', '9t3c8strhc8', 'ygydvppvfda', 's9g8j4br3v', 'fkjdtiurdkw', '19esbbtblkz', 'ykip9j5qpko', 'jq4max49q2r'], 'platform': None, 'self_reported_circulating_supply': None, 'self_reported_market_cap': None, 'quote': {'USD': {'price': 0.9080763542560961, 'volume_24h': 8566, 'volume_change_24h': 0.5011332870689285, 'percent_change_1h': 0.50078664497228, 'percent_change_24h': 0.49995440222262877, 'percent_change_7d': 0.6698272622729469, 'market_cap': 0.788660301537675, 'market_cap_dominance': 1549, 'fully_diluted_market_cap': 0.43052917739408225, 'last_updated': '2025-05-30T03:52:05.523Z'}}}, {'id': 2195, 'name': '0zv210734iq', 'symbol': 'bqr91gtbtr', 'slug': 'lw8vrir4jjk', 'cmc_rank': 7197, 'num_market_pairs': 5883, 'circulating_supply': 136, 'total_supply': 2271, 'max_supply': 4326, 'infinite_supply': None, 'last_updated': '2025-05-30T03:52:05.523Z', 'date_added': '2025-05-30T03:52:05.523Z', 'tags': ['ak0oibruzck', 'vqn1drog09', '6svwa06stty', 'm7t7ke5941p', 'hbpe978nzzg', 'slno45el9mq', 'asuf6lfwpx', 'f9samdhv75h', '9z4lml8je4q', '5hul7o4qr73'], 'platform': None, 'self_reported_circulating_supply': None, 'self_reported_market_cap': None, 'quote': {'USD': {'price': 0.03353696011139795, 'volume_24h': 6233, 'volume_change_24h': 0.062412094784172645, 'percent_change_1h': 0.017635534012976573, 'percent_change_24h': 0.3801428573950818, 'percent_change_7d': 0.7660874881779896, 'market_cap': 0.39864513429811055, 'market_cap_dominance': 2464, 'fully_diluted_market_cap': 0.4540518732418546, 'last_updated': '2025-05-30T03:52:05.523Z'}}}, {'id': 4336, 'name': 'kvc4eyt1xn', 'symbol': 'kbk6fbn83yi', 'slug': '7ls78itn7sm', 'cmc_rank': 6098, 'num_market_pairs': 6383, 'circulating_supply': 5035, 'total_supply': 1574, 'max_supply': 9281, 'infinite_supply': None, 'last_updated': '2025-05-30T03:52:05.523Z', 'date_added': '2025-05-30T03:52:05.523Z', 'tags': ['cxsssk2roqu', 'gd6ms5hio0a', 'ssgolufi86m', 'lgkqbkdnv0j', 'am9gseyyiis', '7s65b89arte', '5jfjdwwrx8n', 'pyyd6j5ax2', 'qgytlv90qv8', 'h82ev9ve7nd'], 'platform': None, 'self_reported_circulating_supply': None, 'self_reported_market_cap': None, 'quote': {'USD': {'price': 0.7689700138829032, 'volume_24h': 8110, 'volume_change_24h': 0.906087151052565, 'percent_change_1h': 0.30957226785419234, 'percent_change_24h': 0.43269715012885124, 'percent_change_7d': 0.8179323602836239, 'market_cap': 0.15799469865162497, 'market_cap_dominance': 1872, 'fully_diluted_market_cap': 0.11188854055927377, 'last_updated': '2025-05-30T03:52:05.523Z'}}}]}\n"
     ]
    }
   ],
   "source": [
    "from requests import Request, Session\n",
    "from requests.exceptions import ConnectionError, Timeout, TooManyRedirects\n",
    "import json\n",
    "\n",
    "url = 'https://sandbox-api.coinmarketcap.com/v1/cryptocurrency/listings/latest'\n",
    "parameters = {\n",
    "  'start':'1',\n",
    "  'limit':'5000',\n",
    "  'convert':'USD'\n",
    "}\n",
    "headers = {\n",
    "  'Accepts': 'application/json',\n",
    "  'X-CMC_PRO_API_KEY': 'b54bcf4d-1bca-4e8e-9a24-22ff2c3d462c',\n",
    "}\n",
    "\n",
    "session = Session()\n",
    "session.headers.update(headers)\n",
    "\n",
    "try:\n",
    "  response = session.get(url, params=parameters)\n",
    "  data = json.loads(response.text)\n",
    "  print(data)\n",
    "except (ConnectionError, Timeout, TooManyRedirects) as e:\n",
    "  print(e)\n",
    "  "
   ]
  },
  {
   "cell_type": "code",
   "execution_count": null,
   "id": "392a03e0-73de-42b5-949b-8cb8829322ce",
   "metadata": {},
   "outputs": [],
   "source": []
  }
 ],
 "metadata": {
  "kernelspec": {
   "display_name": "Python 3 (ipykernel)",
   "language": "python",
   "name": "python3"
  },
  "language_info": {
   "codemirror_mode": {
    "name": "ipython",
    "version": 3
   },
   "file_extension": ".py",
   "mimetype": "text/x-python",
   "name": "python",
   "nbconvert_exporter": "python",
   "pygments_lexer": "ipython3",
   "version": "3.12.1"
  }
 },
 "nbformat": 4,
 "nbformat_minor": 5
}
