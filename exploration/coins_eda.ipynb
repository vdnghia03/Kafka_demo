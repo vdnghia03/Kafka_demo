{
 "cells": [
  {
   "cell_type": "markdown",
   "id": "a40882a9-ae51-4345-b2c3-93bb9b3d823b",
   "metadata": {},
   "source": [
    "# CrytoCurrency Coin Market EDA"
   ]
  },
  {
   "cell_type": "code",
   "execution_count": 3,
   "id": "95d755c7-a084-467b-8f47-254f1f8911e5",
   "metadata": {},
   "outputs": [
    {
     "data": {
      "text/plain": [
       "dict_keys(['status', 'data'])"
      ]
     },
     "execution_count": 3,
     "metadata": {},
     "output_type": "execute_result"
    }
   ],
   "source": [
    "from requests import Request, Session\n",
    "from requests.exceptions import ConnectionError, Timeout, TooManyRedirects\n",
    "import json\n",
    "from dotenv import load_dotenv\n",
    "import os\n",
    "\n",
    "load_dotenv()\n",
    "\n",
    "target_symbol = \"BTC\"\n",
    "\n",
    "API_KEY = os.getenv(\"COINMARKET_API\")\n",
    "\n",
    "url = 'https://pro-api.coinmarketcap.com/v2/cryptocurrency/quotes/latest'\n",
    "parameters = {\n",
    "    'symbol' : target_symbol\n",
    "    , 'convert': \"USD\"\n",
    "}\n",
    "headers = {\n",
    "  'Accepts': 'application/json',\n",
    "  'X-CMC_PRO_API_KEY': API_KEY \n",
    "}\n",
    "\n",
    "session = Session()\n",
    "session.headers.update(headers)\n",
    "\n",
    "try:\n",
    "  response = session.get(url, params=parameters)\n",
    "  data = json.loads(response.text)\n",
    "except (ConnectionError, Timeout, TooManyRedirects) as e:\n",
    "  print(e)\n",
    "\n",
    "data.keys()\n",
    "  "
   ]
  },
  {
   "cell_type": "code",
   "execution_count": 4,
   "id": "392a03e0-73de-42b5-949b-8cb8829322ce",
   "metadata": {},
   "outputs": [
    {
     "data": {
      "text/plain": [
       "dict_keys(['BTC'])"
      ]
     },
     "execution_count": 4,
     "metadata": {},
     "output_type": "execute_result"
    }
   ],
   "source": [
    "data[\"data\"].keys()"
   ]
  },
  {
   "cell_type": "code",
   "execution_count": 5,
   "id": "c88e1ce0-2c7b-49e8-92b9-7b571f28836d",
   "metadata": {},
   "outputs": [
    {
     "data": {
      "text/plain": [
       "dict_keys(['id', 'name', 'symbol', 'slug', 'num_market_pairs', 'date_added', 'tags', 'max_supply', 'circulating_supply', 'total_supply', 'is_active', 'infinite_supply', 'platform', 'cmc_rank', 'is_fiat', 'self_reported_circulating_supply', 'self_reported_market_cap', 'tvl_ratio', 'last_updated', 'quote'])"
      ]
     },
     "execution_count": 5,
     "metadata": {},
     "output_type": "execute_result"
    }
   ],
   "source": [
    "data[\"data\"][\"BTC\"][0].keys()"
   ]
  },
  {
   "cell_type": "code",
   "execution_count": 6,
   "id": "74ea4aa9-aa79-4c38-9621-70632b34301d",
   "metadata": {},
   "outputs": [
    {
     "data": {
      "text/plain": [
       "('Bitcoin', 'BTC', 'bitcoin', '2010-07-13T00:00:00.000Z')"
      ]
     },
     "execution_count": 6,
     "metadata": {},
     "output_type": "execute_result"
    }
   ],
   "source": [
    "btc_data = data[\"data\"][\"BTC\"][0]\n",
    "btc_data[\"name\"], btc_data[\"symbol\"], btc_data[\"slug\"], btc_data[\"date_added\"]"
   ]
  },
  {
   "cell_type": "code",
   "execution_count": 7,
   "id": "bcb09c77-4af9-4c73-9461-4737b2d0f457",
   "metadata": {},
   "outputs": [
    {
     "data": {
      "text/plain": [
       "{'USD': {'price': 103668.76976125379,\n",
       "  'volume_24h': 57009197329.90898,\n",
       "  'volume_change_24h': -2.3373,\n",
       "  'percent_change_1h': -0.18497109,\n",
       "  'percent_change_24h': -2.31354368,\n",
       "  'percent_change_7d': -4.28238305,\n",
       "  'percent_change_30d': 9.02873129,\n",
       "  'percent_change_60d': 24.97801983,\n",
       "  'percent_change_90d': 20.56279419,\n",
       "  'market_cap': 2060146534522.1514,\n",
       "  'market_cap_dominance': 63.566,\n",
       "  'fully_diluted_market_cap': 2177044164986.33,\n",
       "  'tvl': None,\n",
       "  'last_updated': '2025-05-31T06:10:00.000Z'}}"
      ]
     },
     "execution_count": 7,
     "metadata": {},
     "output_type": "execute_result"
    }
   ],
   "source": [
    "btc_data[\"quote\"]"
   ]
  },
  {
   "cell_type": "code",
   "execution_count": 8,
   "id": "65099ced-3936-44e5-ad68-fab99b6d8b8a",
   "metadata": {},
   "outputs": [
    {
     "data": {
      "text/plain": [
       "103668.76976125379"
      ]
     },
     "execution_count": 8,
     "metadata": {},
     "output_type": "execute_result"
    }
   ],
   "source": [
    "btc_data[\"quote\"][\"USD\"][\"price\"]"
   ]
  },
  {
   "cell_type": "code",
   "execution_count": null,
   "id": "25c42efe-4166-4c54-a0ee-432ea9b71ef9",
   "metadata": {},
   "outputs": [],
   "source": []
  }
 ],
 "metadata": {
  "kernelspec": {
   "display_name": "Python 3 (ipykernel)",
   "language": "python",
   "name": "python3"
  },
  "language_info": {
   "codemirror_mode": {
    "name": "ipython",
    "version": 3
   },
   "file_extension": ".py",
   "mimetype": "text/x-python",
   "name": "python",
   "nbconvert_exporter": "python",
   "pygments_lexer": "ipython3",
   "version": "3.12.1"
  }
 },
 "nbformat": 4,
 "nbformat_minor": 5
}
